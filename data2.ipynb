{
 "cells": [
  {
   "cell_type": "markdown",
   "id": "bfadedfd-580b-443e-9470-2760d62da55c",
   "metadata": {},
   "source": [
    "# Data Extraction and Preprocessing"
   ]
  },
  {
   "cell_type": "code",
   "execution_count": 1,
   "id": "7b0de6ff-94df-4bce-b333-a016d2c31c7a",
   "metadata": {},
   "outputs": [],
   "source": [
    "#!pip install yfinance\n",
    "\n",
    "import numpy as np\n",
    "import pandas as pd\n",
    "from datetime import datetime\n",
    "import yfinance as yf"
   ]
  },
  {
   "cell_type": "code",
   "execution_count": 2,
   "id": "b3dd143a-48fd-44f5-9ddc-f4f5c061b726",
   "metadata": {},
   "outputs": [
    {
     "name": "stdout",
     "output_type": "stream",
     "text": [
      "[*********************100%***********************]  6 of 6 completed\n"
     ]
    }
   ],
   "source": [
    "symbols = [\n",
    "    '^GSPC', #S&P500\n",
    "    '^DJI',  #Dow Jones\n",
    "    '^IXIC', #Nasdaq\n",
    "    'CL=F',  #Óleo Bruto\n",
    "    'GC=F',  #Ouro\n",
    "    '^BVSP', #IBOV\n",
    "    'CL=F', #Petróleo\n",
    "]\n",
    "\n",
    "data = yf.download(\n",
    "    tickers=' '.join(symbols),\n",
    "    period='max',\n",
    "    interval='1d',\n",
    "    auto_adjust = True,\n",
    "    threads=True,\n",
    "    group_by='ticker'\n",
    ")"
   ]
  },
  {
   "cell_type": "code",
   "execution_count": 3,
   "id": "342359e6-402e-45c4-8b4c-b30eb22e1d86",
   "metadata": {},
   "outputs": [],
   "source": [
    "data = data.loc['2002-01-01':,:]"
   ]
  },
  {
   "cell_type": "code",
   "execution_count": 4,
   "id": "8c41577c-6f5c-4bd6-aa6d-08c3931365d6",
   "metadata": {},
   "outputs": [],
   "source": [
    "data2 = data.copy(deep=True)\n",
    "index = pd.date_range(start=data2.index.min(), end=data2.index.max(), freq='D')\n",
    "data2 = data2.reindex(index)\n",
    "data2 = data2.interpolate(method='linear')\n",
    "data2.dropna(axis=0, inplace=True)"
   ]
  },
  {
   "cell_type": "code",
   "execution_count": 5,
   "id": "f0042ea7-83cb-4f50-bda4-57cef47861c2",
   "metadata": {},
   "outputs": [
    {
     "data": {
      "text/plain": [
       "0"
      ]
     },
     "execution_count": 5,
     "metadata": {},
     "output_type": "execute_result"
    }
   ],
   "source": [
    "(data2.isnull().sum() > 0).sum()"
   ]
  },
  {
   "cell_type": "code",
   "execution_count": 6,
   "id": "54250f2d-3295-4f41-a024-0c5e4226d5b4",
   "metadata": {
    "tags": []
   },
   "outputs": [],
   "source": [
    "data3 = data2.copy(deep=True)\n",
    "data3.rename(columns={\n",
    "    '^GSPC': 'S&P500',\n",
    "    '^DJI': 'Dow_Jones',\n",
    "    '^IXIC': 'Nasdaq',\n",
    "    'CL=F': 'Óleo_Bruto',\n",
    "    'GC=F': 'Ouro',\n",
    "    '^BVSP': 'IBOV',\n",
    "    'CL=F': 'Petróleo',\n",
    "}, inplace=True)\n",
    "\n",
    "#data3.columns = list(map(lambda x : f'{x[0]}_{x[1]}', data3.columns.to_flat_index()))"
   ]
  },
  {
   "cell_type": "code",
   "execution_count": 7,
   "id": "a8aa68d3-c422-4b6e-8d20-c9bd9d6dfe95",
   "metadata": {},
   "outputs": [],
   "source": [
    "to_concat = []\n",
    "to_concat.append(data3.loc[:, 'IBOV'].rename(columns={'Open': 'IBOV_Open', 'High': 'IBOV_High', 'Low': 'IBOV_Low', 'Close': 'IBOV_Close', 'Volume': 'IBOV_Volume'}))\n",
    "l0, l1 = zip(*data3.drop('IBOV', level=0, axis=1).columns)\n",
    "l0 = list(set(l0))\n",
    "for item in l0:\n",
    "    _ = data3.loc[:,(item, 'Close')]\n",
    "    _.name = f'{item}_Close'\n",
    "    to_concat.append(_.to_frame())\n",
    "data4 = pd.concat(to_concat, axis=1, join='inner')"
   ]
  },
  {
   "cell_type": "code",
   "execution_count": 8,
   "id": "dcca3ced-5449-408f-bbe4-ccf84f13d8a5",
   "metadata": {},
   "outputs": [
    {
     "data": {
      "text/plain": [
       "Index(['IBOV_Open', 'IBOV_High', 'IBOV_Low', 'IBOV_Close', 'IBOV_Volume',\n",
       "       'Nasdaq_Close', 'Ouro_Close', 'S&P500_Close', 'Petróleo_Close',\n",
       "       'Dow_Jones_Close'],\n",
       "      dtype='object')"
      ]
     },
     "execution_count": 8,
     "metadata": {},
     "output_type": "execute_result"
    }
   ],
   "source": [
    "data4.columns"
   ]
  },
  {
   "cell_type": "code",
   "execution_count": 9,
   "id": "43efdd4f-3487-433f-9459-8c3a918c7375",
   "metadata": {},
   "outputs": [],
   "source": [
    "data4.to_csv('dataset2.csv')"
   ]
  },
  {
   "cell_type": "code",
   "execution_count": null,
   "id": "989eb5ae-36ed-4f24-bcd7-66aa73f46831",
   "metadata": {},
   "outputs": [],
   "source": []
  }
 ],
 "metadata": {
  "kernelspec": {
   "display_name": "Python 3 (ipykernel)",
   "language": "python",
   "name": "python3"
  },
  "language_info": {
   "codemirror_mode": {
    "name": "ipython",
    "version": 3
   },
   "file_extension": ".py",
   "mimetype": "text/x-python",
   "name": "python",
   "nbconvert_exporter": "python",
   "pygments_lexer": "ipython3",
   "version": "3.10.4"
  }
 },
 "nbformat": 4,
 "nbformat_minor": 5
}
