{
 "cells": [
  {
   "cell_type": "markdown",
   "id": "f224b505-1a43-44ad-b75e-8398a47b955d",
   "metadata": {
    "tags": []
   },
   "source": [
    "# Ibovespa prediction / Feature Selection"
   ]
  },
  {
   "cell_type": "code",
   "execution_count": 1,
   "id": "785e35ca-87a7-40df-8c3a-4c7e61696c8c",
   "metadata": {},
   "outputs": [],
   "source": [
    "import math\n",
    "import numpy as np\n",
    "import pandas as pd\n",
    "import matplotlib.pyplot as plt\n",
    "%matplotlib inline\n",
    "\n",
    "np.random.seed(15)"
   ]
  },
  {
   "cell_type": "markdown",
   "id": "c3199647-c6b3-44a8-b304-74c12c692f87",
   "metadata": {},
   "source": [
    "## Loading Dataset"
   ]
  },
  {
   "cell_type": "code",
   "execution_count": 2,
   "id": "94fc3c33-ff78-4faf-b34c-03fb87ede541",
   "metadata": {
    "tags": []
   },
   "outputs": [],
   "source": [
    "data = pd.read_csv('dataset.csv', index_col=0)\n",
    "data.index = data.index.astype('datetime64[ns]')\n",
    "date_index = pd.date_range(start=data.index.min(), end=data.index.max(), freq='D')\n",
    "data = data.reindex(date_index)"
   ]
  },
  {
   "cell_type": "markdown",
   "id": "4339d246-4aac-4ebf-bc80-5f65de4dddb2",
   "metadata": {},
   "source": [
    "## Checking for empty values"
   ]
  },
  {
   "cell_type": "code",
   "execution_count": 3,
   "id": "91f4e49c-c5e9-43d6-b8b5-a3475f610a52",
   "metadata": {},
   "outputs": [
    {
     "data": {
      "text/plain": [
       "0"
      ]
     },
     "execution_count": 3,
     "metadata": {},
     "output_type": "execute_result"
    }
   ],
   "source": [
    "(data.isnull().sum() > 0).sum()"
   ]
  },
  {
   "cell_type": "markdown",
   "id": "4799f5c0-09cf-47b1-a2ec-9a84de5efd2c",
   "metadata": {},
   "source": [
    "There are no empty values in the dataset"
   ]
  },
  {
   "cell_type": "markdown",
   "id": "8ba2ea3f-9140-42b4-87f3-9f31a26155c7",
   "metadata": {},
   "source": [
    "## Setting input and target variables"
   ]
  },
  {
   "cell_type": "code",
   "execution_count": 4,
   "id": "35592c4c-ae75-4423-9178-5d5e2ab1e3cf",
   "metadata": {},
   "outputs": [],
   "source": [
    "target = '^BVSP'\n",
    "X = data.drop(target, axis=1).values\n",
    "y = data.loc[:,target].values"
   ]
  },
  {
   "cell_type": "markdown",
   "id": "ea744c9c-4729-4572-a6a5-2a5b02aec820",
   "metadata": {},
   "source": [
    "# Feature Selection"
   ]
  },
  {
   "cell_type": "markdown",
   "id": "1f523fa7-f52c-4a45-a814-5414933fce6a",
   "metadata": {},
   "source": [
    "## Genetic Filter"
   ]
  },
  {
   "cell_type": "code",
   "execution_count": 5,
   "id": "f3f5102a-edff-4c0d-b34b-131bd928e539",
   "metadata": {},
   "outputs": [],
   "source": [
    "import pygad\n",
    "from sklearn.feature_selection import mutual_info_regression\n",
    "from scipy.stats import pearsonr\n",
    "from sklearn.feature_selection import f_regression\n",
    "\n",
    "def f(i, j):\n",
    "    mi = mutual_info_regression(i.reshape(-1,1), j)[0]\n",
    "    F, _ = f_regression(i.reshape(-1, 1), j)\n",
    "    corr, _ = pearsonr(i, j)\n",
    "  \n",
    "    return mi + F[0] + abs(corr)\n",
    "\n",
    "f_values = {}\n",
    "ncols = X.shape[1]\n",
    "for i in range(ncols - 1):\n",
    "    for j in range(i + 1, ncols):\n",
    "        f_value = f(X[:,i], X[:,j])\n",
    "        f_values[(i, j)] = f_value\n",
    "        f_values[(j, i)] = f_value\n",
    "        \n",
    "for i in range(ncols):\n",
    "    f_value = f(y, X[:,i])\n",
    "    f_values[('target', i)] = f_value"
   ]
  },
  {
   "cell_type": "code",
   "execution_count": 6,
   "id": "38effeed-c49d-479e-b767-86736566ad77",
   "metadata": {},
   "outputs": [],
   "source": [
    "def fitness_func(solution, solution_idx):\n",
    "    idx_selected = np.nonzero(solution)[0]\n",
    "      \n",
    "    f_features_target = 0\n",
    "    for idx in idx_selected:\n",
    "        f_features_target += f_values[('target', idx)]\n",
    "        \n",
    "    f_features = 0\n",
    "    for i in range(len(idx_selected) - 1):\n",
    "        for j in range(i + 1, len(idx_selected)):\n",
    "            f_features += f_values[(idx_selected[i], idx_selected[j])]\n",
    "          \n",
    "    return f_features_target - f_features\n",
    "\n",
    "ga = pygad.GA(\n",
    "    num_parents_mating=4,\n",
    "    keep_parents=3,\n",
    "    sol_per_pop=100,\n",
    "    num_generations=500,\n",
    "    num_genes=ncols,\n",
    "    crossover_type='two_points',\n",
    "    mutation_type='random',\n",
    "    mutation_probability=0.001,\n",
    "    parent_selection_type='rws',\n",
    "    gene_space=(0, 1),\n",
    "    fitness_func=fitness_func,\n",
    "    parallel_processing=['thread', 15]\n",
    ")\n",
    "\n",
    "ga.run()"
   ]
  },
  {
   "cell_type": "code",
   "execution_count": 9,
   "id": "440f5735-0d36-4d85-aa72-6896a21aaf35",
   "metadata": {},
   "outputs": [
    {
     "data": {
      "image/png": "[encoded data removed]",
      "text/plain": [
       "<Figure size 432x288 with 1 Axes>"
      ]
     },
     "metadata": {
      "needs_background": "light"
     },
     "output_type": "display_data"
    }
   ],
   "source": [
    "ga.plot_fitness()\n",
    "plt.show()"
   ]
  },
  {
   "cell_type": "code",
   "execution_count": 20,
   "id": "ff5b8692-1453-40ec-96fa-fd53f3d1cd69",
   "metadata": {},
   "outputs": [],
   "source": [
    "filter_selected = np.nonzero(ga.best_solution()[0])[0]\n",
    "filter_selected_ = np.array(data.columns[filter_selected])"
   ]
  },
  {
   "cell_type": "code",
   "execution_count": 22,
   "id": "d17267d2-59e7-4645-86a2-e9a0133f1baa",
   "metadata": {},
   "outputs": [
    {
     "data": {
      "text/plain": [
       "array(['AA', 'ABEV', 'AEO', 'AMD', 'APA', 'BA', 'BCS', 'BP', 'BSX', 'CCL',\n",
       "       'CLF', 'COP', 'CS', 'EPD', 'FCX', 'HAL', 'HBAN', 'HL', 'HPQ',\n",
       "       'IYH', 'JNJ', 'JWN', 'KGC', 'KO', 'LUMN', 'LUV', 'MS', 'NEM',\n",
       "       'NLY', 'NVAX', 'NVDA', 'PBR', 'PFE', 'PLUG', 'SCHW', 'SLB', 'SO',\n",
       "       'SWN', 'T', 'TELL', 'TEVA', 'TJX', 'VZ', 'WBA', 'X', 'XOM',\n",
       "       '^AORD', '^JKSE', '^TA125.TA'], dtype=object)"
      ]
     },
     "execution_count": 22,
     "metadata": {},
     "output_type": "execute_result"
    }
   ],
   "source": [
    "filter_selected_"
   ]
  },
  {
   "cell_type": "code",
   "execution_count": null,
   "id": "bf209e90-8b0d-4b96-91ca-e877e5c1f57e",
   "metadata": {},
   "outputs": [],
   "source": []
  }
 ],
 "metadata": {
  "kernelspec": {
   "display_name": "Python 3 (ipykernel)",
   "language": "python",
   "name": "python3"
  },
  "language_info": {
   "codemirror_mode": {
    "name": "ipython",
    "version": 3
   },
   "file_extension": ".py",
   "mimetype": "text/x-python",
   "name": "python",
   "nbconvert_exporter": "python",
   "pygments_lexer": "ipython3",
   "version": "3.9.12"
  }
 },
 "nbformat": 4,
 "nbformat_minor": 5
}
