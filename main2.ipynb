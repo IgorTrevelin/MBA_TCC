{
 "cells": [
  {
   "cell_type": "markdown",
   "id": "f224b505-1a43-44ad-b75e-8398a47b955d",
   "metadata": {
    "tags": []
   },
   "source": [
    "# Ibovespa prediction / Feature Selection"
   ]
  },
  {
   "cell_type": "code",
   "execution_count": 1,
   "id": "785e35ca-87a7-40df-8c3a-4c7e61696c8c",
   "metadata": {},
   "outputs": [],
   "source": [
    "import math\n",
    "import numpy as np\n",
    "import pandas as pd\n",
    "import matplotlib.pyplot as plt\n",
    "from joblib import Parallel, delayed\n",
    "%matplotlib inline\n",
    "\n",
    "n_jobs = 15 # number of parallel jobs to run in parallel"
   ]
  },
  {
   "cell_type": "markdown",
   "id": "c3199647-c6b3-44a8-b304-74c12c692f87",
   "metadata": {},
   "source": [
    "## Loading Dataset"
   ]
  },
  {
   "cell_type": "code",
   "execution_count": 2,
   "id": "94fc3c33-ff78-4faf-b34c-03fb87ede541",
   "metadata": {
    "tags": []
   },
   "outputs": [],
   "source": [
    "data = pd.read_csv('dataset2.csv', index_col=0)\n",
    "data.index = data.index.astype('datetime64[ns]')\n",
    "date_index = pd.date_range(start=data.index.min(), end=data.index.max(), freq='D')\n",
    "data = data.reindex(date_index)"
   ]
  },
  {
   "cell_type": "markdown",
   "id": "4339d246-4aac-4ebf-bc80-5f65de4dddb2",
   "metadata": {},
   "source": [
    "## Checking for empty values"
   ]
  },
  {
   "cell_type": "code",
   "execution_count": 3,
   "id": "91f4e49c-c5e9-43d6-b8b5-a3475f610a52",
   "metadata": {},
   "outputs": [
    {
     "data": {
      "text/plain": [
       "0"
      ]
     },
     "execution_count": 3,
     "metadata": {},
     "output_type": "execute_result"
    }
   ],
   "source": [
    "(data.isnull().sum() > 0).sum()"
   ]
  },
  {
   "cell_type": "markdown",
   "id": "4799f5c0-09cf-47b1-a2ec-9a84de5efd2c",
   "metadata": {},
   "source": [
    "There are no empty values in the dataset"
   ]
  },
  {
   "cell_type": "markdown",
   "id": "b80700bd-60f7-4a3b-bc00-513cba86c19e",
   "metadata": {
    "tags": []
   },
   "source": [
    "# Feature Selection"
   ]
  },
  {
   "cell_type": "markdown",
   "id": "b10d5dbe-892c-4cfb-945c-1e3f51f760a7",
   "metadata": {
    "tags": []
   },
   "source": [
    "## Genetic Filter"
   ]
  },
  {
   "cell_type": "code",
   "execution_count": 4,
   "id": "93fdc463-3f44-40a9-881a-ecfcd3ee8f18",
   "metadata": {},
   "outputs": [],
   "source": [
    "import pygad\n",
    "from sklearn.feature_selection import mutual_info_regression\n",
    "from scipy.stats import pearsonr\n",
    "from sklearn.feature_selection import f_regression\n",
    "\n",
    "def genetic_filter(X, y):\n",
    "    def f(i, j):\n",
    "        mi = mutual_info_regression(i.reshape(-1,1), j)[0]\n",
    "        F, _ = f_regression(i.reshape(-1, 1), j)\n",
    "        corr, _ = pearsonr(i, j)\n",
    "\n",
    "        return mi + F[0] + abs(corr)\n",
    "\n",
    "    f_values = {}\n",
    "    ncols = X.shape[1]\n",
    "\n",
    "    results = Parallel(n_jobs=n_jobs)(delayed(f)(X[:,i], X[:,j]) for i in range(ncols - 1) for j in range(i + 1, ncols))\n",
    "\n",
    "    index = 0\n",
    "    for i in range(ncols - 1):\n",
    "        for j in range(i + 1, ncols):\n",
    "            f_values[(i, j)] = results[index]\n",
    "            f_values[(j, i)] = results[index]\n",
    "            index += 1\n",
    "\n",
    "    results = Parallel(n_jobs=n_jobs)(delayed(f)(y, X[:,i]) for i in range(ncols))\n",
    "    index = 0\n",
    "    for i in range(ncols):\n",
    "        f_values[('target', i)] = results[index]\n",
    "        index += 1\n",
    "        \n",
    "    def fitness_func(solution, solution_idx):\n",
    "        idx_selected = np.nonzero(solution)[0]\n",
    "\n",
    "        f_features_target = 0\n",
    "        for idx in idx_selected:\n",
    "            f_features_target += f_values[('target', idx)]\n",
    "\n",
    "        f_features = 0\n",
    "        for i in range(len(idx_selected) - 1):\n",
    "            for j in range(i + 1, len(idx_selected)):\n",
    "                f_features += f_values[(idx_selected[i], idx_selected[j])]\n",
    "\n",
    "        return f_features_target - f_features\n",
    "\n",
    "    ga = pygad.GA(\n",
    "        num_parents_mating=4,\n",
    "        keep_parents=3,\n",
    "        sol_per_pop=100,\n",
    "        num_generations=500,\n",
    "        num_genes=ncols,\n",
    "        crossover_type='two_points',\n",
    "        mutation_type='random',\n",
    "        mutation_probability=0.001,\n",
    "        parent_selection_type='rws',\n",
    "        gene_space=(0, 1),\n",
    "        fitness_func=fitness_func,\n",
    "        parallel_processing=['thread', 15]\n",
    "    )\n",
    "\n",
    "    ga.run()\n",
    "    \n",
    "    return ga"
   ]
  },
  {
   "cell_type": "markdown",
   "id": "3a17c5b5-83e6-4694-a974-24d45f4b3b21",
   "metadata": {},
   "source": [
    "# Model training/validation"
   ]
  },
  {
   "cell_type": "markdown",
   "id": "90fb02d6-dc0e-449b-b87f-7dfcf8016c79",
   "metadata": {},
   "source": [
    "## Train/Test split function definition"
   ]
  },
  {
   "cell_type": "code",
   "execution_count": 5,
   "id": "9baad894-da05-4688-93ea-d6b2d9810461",
   "metadata": {},
   "outputs": [],
   "source": [
    "def train_test_split(X, y, train_size=0.8):\n",
    "    nrows = X.shape[0]\n",
    "    sep = math.ceil(nrows * train_size)\n",
    "    \n",
    "    return X[:sep,:], y[:sep], X[sep:,:], y[sep:]"
   ]
  },
  {
   "cell_type": "markdown",
   "id": "0adaadc8-77b4-4e91-b1de-146a5f06457f",
   "metadata": {
    "tags": []
   },
   "source": [
    "## SVM"
   ]
  },
  {
   "cell_type": "code",
   "execution_count": 6,
   "id": "070c8106-c017-4eb6-8c87-1b7f752e4983",
   "metadata": {},
   "outputs": [
    {
     "name": "stdout",
     "output_type": "stream",
     "text": [
      "SVM AUC: 0.6427935440104021 +- 1.1102230246251565e-16\n",
      "SVM Accuracy: 0.6434262948207171 +- 0.0\n"
     ]
    }
   ],
   "source": [
    "from sklearn.svm import SVC\n",
    "from sklearn.pipeline import Pipeline\n",
    "from sklearn.metrics import mean_absolute_error, accuracy_score, roc_curve, auc\n",
    "from sklearn.preprocessing import StandardScaler\n",
    "\n",
    "target = 'IBOV_Direction'\n",
    "X = data.drop([target], axis=1).values\n",
    "y = data[target].values\n",
    "X_train, y_train, X_test, y_test = train_test_split(X, y)\n",
    "\n",
    "def run_svm(X_train_, y_train_, X_test_, y_test_):\n",
    "    pipe = Pipeline([\n",
    "        ('scaler', StandardScaler()),\n",
    "        ('SVM', SVC(\n",
    "            kernel='poly',\n",
    "            degree=1\n",
    "        ))\n",
    "    ])\n",
    "\n",
    "    pipe.fit(X_train_, y_train_)\n",
    "    y_pred = pipe.predict(X_test_)\n",
    "    \n",
    "    fpr, tpr, _ = roc_curve(y_test_, y_pred)\n",
    "    return auc(fpr, tpr), accuracy_score(y_test_, y_pred)\n",
    "\n",
    "results = Parallel(n_jobs=n_jobs)(delayed(run_svm)(X_train, y_train, X_test, y_test) for i in range(50))\n",
    "aucs, accs = zip(*results)\n",
    "print(f'SVM AUC: {np.mean(aucs)} +- {np.std(aucs)}')\n",
    "print(f'SVM Accuracy: {np.mean(accs)} +- {np.std(accs)}')"
   ]
  },
  {
   "cell_type": "code",
   "execution_count": 7,
   "id": "5eae2fa8-2158-46ec-85dc-1a44dd045c2d",
   "metadata": {},
   "outputs": [],
   "source": [
    "ga = genetic_filter(X, y)"
   ]
  },
  {
   "cell_type": "code",
   "execution_count": 8,
   "id": "eb3f66c5-c25c-458d-a591-d81df445fe7f",
   "metadata": {},
   "outputs": [],
   "source": [
    "filter_selected = np.nonzero(ga.best_solution()[0])[0]"
   ]
  },
  {
   "cell_type": "code",
   "execution_count": 9,
   "id": "4107918c-44cb-497f-be6b-45dde2e20008",
   "metadata": {},
   "outputs": [
    {
     "name": "stdout",
     "output_type": "stream",
     "text": [
      "SVM AUC: 0.6427935440104021 +- 1.1102230246251565e-16\n",
      "SVM Accuracy: 0.6434262948207171 +- 0.0\n"
     ]
    }
   ],
   "source": [
    "X_train_fs = X_train[:,filter_selected]\n",
    "X_test_fs = X_test[:,filter_selected]\n",
    "\n",
    "results = Parallel(n_jobs=n_jobs)(delayed(run_svm)(X_train_fs, y_train, X_test_fs, y_test) for i in range(50))\n",
    "aucs, accs = zip(*results)\n",
    "print(f'SVM AUC: {np.mean(aucs)} +- {np.std(aucs)}')\n",
    "print(f'SVM Accuracy: {np.mean(accs)} +- {np.std(accs)}')"
   ]
  },
  {
   "cell_type": "markdown",
   "id": "58f77469-af4c-4a39-92e2-8b9c21d76715",
   "metadata": {},
   "source": [
    "## ANN - MLP"
   ]
  },
  {
   "cell_type": "code",
   "execution_count": 10,
   "id": "bece0e17-1d21-416f-82c0-c2e6e9698981",
   "metadata": {},
   "outputs": [],
   "source": [
    "import warnings\n",
    "warnings.filterwarnings(\"ignore\")\n",
    "\n",
    "from sklearn.pipeline import Pipeline\n",
    "from sklearn.preprocessing import StandardScaler\n",
    "from sklearn.neural_network import MLPClassifier\n",
    "from sklearn.metrics import accuracy_score, roc_curve, auc\n",
    "from itertools import combinations_with_replacement\n",
    "from joblib import Parallel, delayed\n",
    "\n",
    "target = 'IBOV_Direction'\n",
    "X = data.drop([target], axis=1).values\n",
    "y = data[target].values\n",
    "X_train, y_train, X_test, y_test = train_test_split(X, y)\n",
    "\n",
    "n_layers = np.arange(2) + 1\n",
    "n_neurons = np.arange(0, 35, 5) + 5\n",
    "epochs = np.arange(50, 500, 50) + 50\n",
    "combinations = []\n",
    "\n",
    "for layers in n_layers:\n",
    "    combinations.extend(combinations_with_replacement(n_neurons, int(layers)))\n",
    "    \n",
    "def run_mlp(X_train, y_train, X_test, y_test, layer_sizes, epochs):\n",
    "    aucs = []\n",
    "    accs = []\n",
    "    \n",
    "    for i in range(50):\n",
    "        pipe = Pipeline([\n",
    "            ('scaler', StandardScaler()),\n",
    "            ('MLP', MLPClassifier(\n",
    "                hidden_layer_sizes=layer_sizes,\n",
    "                solver='adam',\n",
    "                max_iter=epochs,\n",
    "                activation='tanh',\n",
    "                random_state=15\n",
    "            ))\n",
    "        ])\n",
    "\n",
    "        pipe.fit(X_train, y_train)\n",
    "        y_pred = pipe.predict(X_test)\n",
    "        fpr, tpr, _ = roc_curve(y_test, y_pred)\n",
    "        aucs.append(auc(fpr, tpr))\n",
    "        accs.append(accuracy_score(y_test, y_pred))\n",
    "    \n",
    "    return epochs, layer_sizes, aucs, accs\n",
    "    \n",
    "results = Parallel(n_jobs=n_jobs)(delayed(run_mlp)(\n",
    "    X_train,\n",
    "    y_train,\n",
    "    X_test,\n",
    "    y_test,\n",
    "    ls,\n",
    "    ep\n",
    ") for ep in epochs for ls in combinations)"
   ]
  },
  {
   "cell_type": "code",
   "execution_count": 11,
   "id": "7ca5b434-040e-4097-a7a8-ed3036963d1f",
   "metadata": {},
   "outputs": [
    {
     "data": {
      "text/html": [
       "<div>\n",
       "<style scoped>\n",
       "    .dataframe tbody tr th:only-of-type {\n",
       "        vertical-align: middle;\n",
       "    }\n",
       "\n",
       "    .dataframe tbody tr th {\n",
       "        vertical-align: top;\n",
       "    }\n",
       "\n",
       "    .dataframe thead th {\n",
       "        text-align: right;\n",
       "    }\n",
       "</style>\n",
       "<table border=\"1\" class=\"dataframe\">\n",
       "  <thead>\n",
       "    <tr style=\"text-align: right;\">\n",
       "      <th></th>\n",
       "      <th>Epochs</th>\n",
       "      <th>Hidden Layer Sizes</th>\n",
       "      <th>AUC</th>\n",
       "      <th>Accuracy</th>\n",
       "    </tr>\n",
       "  </thead>\n",
       "  <tbody>\n",
       "    <tr>\n",
       "      <th>214</th>\n",
       "      <td>400</td>\n",
       "      <td>(25,)</td>\n",
       "      <td>0.893378300073492 +- 1.1102230246251565e-16</td>\n",
       "      <td>0.8930942895086321 +- 0.0</td>\n",
       "    </tr>\n",
       "    <tr>\n",
       "      <th>249</th>\n",
       "      <td>450</td>\n",
       "      <td>(25,)</td>\n",
       "      <td>0.893378300073492 +- 1.1102230246251565e-16</td>\n",
       "      <td>0.8930942895086321 +- 0.0</td>\n",
       "    </tr>\n",
       "    <tr>\n",
       "      <th>284</th>\n",
       "      <td>500</td>\n",
       "      <td>(25,)</td>\n",
       "      <td>0.893378300073492 +- 1.1102230246251565e-16</td>\n",
       "      <td>0.8930942895086321 +- 0.0</td>\n",
       "    </tr>\n",
       "    <tr>\n",
       "      <th>248</th>\n",
       "      <td>450</td>\n",
       "      <td>(20,)</td>\n",
       "      <td>0.8891489767652213 +- 0.0</td>\n",
       "      <td>0.8897742363877821 +- 1.1102230246251565e-16</td>\n",
       "    </tr>\n",
       "    <tr>\n",
       "      <th>283</th>\n",
       "      <td>500</td>\n",
       "      <td>(20,)</td>\n",
       "      <td>0.8891489767652213 +- 0.0</td>\n",
       "      <td>0.8897742363877821 +- 1.1102230246251565e-16</td>\n",
       "    </tr>\n",
       "    <tr>\n",
       "      <th>...</th>\n",
       "      <td>...</td>\n",
       "      <td>...</td>\n",
       "      <td>...</td>\n",
       "      <td>...</td>\n",
       "    </tr>\n",
       "    <tr>\n",
       "      <th>1</th>\n",
       "      <td>100</td>\n",
       "      <td>(10,)</td>\n",
       "      <td>0.6331424190174685 +- 0.0</td>\n",
       "      <td>0.6401062416998671 +- 1.1102230246251565e-16</td>\n",
       "    </tr>\n",
       "    <tr>\n",
       "      <th>2</th>\n",
       "      <td>100</td>\n",
       "      <td>(15,)</td>\n",
       "      <td>0.6232722313302053 +- 0.0</td>\n",
       "      <td>0.6367861885790171 +- 1.1102230246251565e-16</td>\n",
       "    </tr>\n",
       "    <tr>\n",
       "      <th>34</th>\n",
       "      <td>100</td>\n",
       "      <td>(35, 35)</td>\n",
       "      <td>0.6458268556730172 +- 1.1102230246251565e-16</td>\n",
       "      <td>0.6314741035856573 +- 1.1102230246251565e-16</td>\n",
       "    </tr>\n",
       "    <tr>\n",
       "      <th>23</th>\n",
       "      <td>100</td>\n",
       "      <td>(15, 30)</td>\n",
       "      <td>0.6402866894680309 +- 0.0</td>\n",
       "      <td>0.6261620185922974 +- 1.1102230246251565e-16</td>\n",
       "    </tr>\n",
       "    <tr>\n",
       "      <th>9</th>\n",
       "      <td>100</td>\n",
       "      <td>(5, 15)</td>\n",
       "      <td>0.570730750749053 +- 0.0</td>\n",
       "      <td>0.5869853917662683 +- 0.0</td>\n",
       "    </tr>\n",
       "  </tbody>\n",
       "</table>\n",
       "<p>315 rows × 4 columns</p>\n",
       "</div>"
      ],
      "text/plain": [
       "     Epochs Hidden Layer Sizes                                           AUC  \\\n",
       "214     400              (25,)   0.893378300073492 +- 1.1102230246251565e-16   \n",
       "249     450              (25,)   0.893378300073492 +- 1.1102230246251565e-16   \n",
       "284     500              (25,)   0.893378300073492 +- 1.1102230246251565e-16   \n",
       "248     450              (20,)                     0.8891489767652213 +- 0.0   \n",
       "283     500              (20,)                     0.8891489767652213 +- 0.0   \n",
       "..      ...                ...                                           ...   \n",
       "1       100              (10,)                     0.6331424190174685 +- 0.0   \n",
       "2       100              (15,)                     0.6232722313302053 +- 0.0   \n",
       "34      100           (35, 35)  0.6458268556730172 +- 1.1102230246251565e-16   \n",
       "23      100           (15, 30)                     0.6402866894680309 +- 0.0   \n",
       "9       100            (5, 15)                      0.570730750749053 +- 0.0   \n",
       "\n",
       "                                         Accuracy  \n",
       "214                     0.8930942895086321 +- 0.0  \n",
       "249                     0.8930942895086321 +- 0.0  \n",
       "284                     0.8930942895086321 +- 0.0  \n",
       "248  0.8897742363877821 +- 1.1102230246251565e-16  \n",
       "283  0.8897742363877821 +- 1.1102230246251565e-16  \n",
       "..                                            ...  \n",
       "1    0.6401062416998671 +- 1.1102230246251565e-16  \n",
       "2    0.6367861885790171 +- 1.1102230246251565e-16  \n",
       "34   0.6314741035856573 +- 1.1102230246251565e-16  \n",
       "23   0.6261620185922974 +- 1.1102230246251565e-16  \n",
       "9                       0.5869853917662683 +- 0.0  \n",
       "\n",
       "[315 rows x 4 columns]"
      ]
     },
     "execution_count": 11,
     "metadata": {},
     "output_type": "execute_result"
    }
   ],
   "source": [
    "data = []\n",
    "for result in results:\n",
    "    data.append([\n",
    "        result[0],\n",
    "        result[1],\n",
    "        f'{np.mean(result[2])} +- {np.std(result[2])}',\n",
    "        f'{np.mean(result[3])} +- {np.std(result[3])}'\n",
    "    ])\n",
    "    \n",
    "summary = pd.DataFrame(data, columns=['Epochs', 'Hidden Layer Sizes', 'AUC', 'Accuracy'])\n",
    "summary.sort_values(['Accuracy', 'AUC'], ascending=False)"
   ]
  },
  {
   "cell_type": "markdown",
   "id": "77c30d8b-a18a-4b8d-8c50-579efaf6cc0b",
   "metadata": {},
   "source": [
    "# Ensemble A"
   ]
  },
  {
   "cell_type": "code",
   "execution_count": 12,
   "id": "efd67f03-bb40-4375-8940-9b77f9b0fba8",
   "metadata": {},
   "outputs": [],
   "source": [
    "#Todo"
   ]
  }
 ],
 "metadata": {
  "kernelspec": {
   "display_name": "Python 3 (ipykernel)",
   "language": "python",
   "name": "python3"
  },
  "language_info": {
   "codemirror_mode": {
    "name": "ipython",
    "version": 3
   },
   "file_extension": ".py",
   "mimetype": "text/x-python",
   "name": "python",
   "nbconvert_exporter": "python",
   "pygments_lexer": "ipython3",
   "version": "3.9.12"
  }
 },
 "nbformat": 4,
 "nbformat_minor": 5
}
